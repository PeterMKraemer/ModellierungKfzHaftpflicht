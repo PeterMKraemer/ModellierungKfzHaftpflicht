{
 "cells": [
  {
   "cell_type": "markdown",
   "id": "a50e7e38-faca-4dd4-85bd-e1b0971c619d",
   "metadata": {},
   "source": [
    "### Log normal regression does not do a great job at predicting actual ClaimAmount. In this notebook, I set up a use a gradient boost poisson regression model to estimate the expected ClaimNb. Code has been developed for the same data set [elsewhere](https://scikit-learn.org/stable/auto_examples/linear_model/plot_poisson_regression_non_normal_loss.html). Here I adapt it to my work for the sake of method comparison."
   ]
  },
  {
   "cell_type": "code",
   "execution_count": 1,
   "id": "96b7b801-6ce8-473a-bd02-1e75490b13cd",
   "metadata": {},
   "outputs": [],
   "source": [
    "import pandas as pd\n",
    "import arff\n",
    "import numpy as np\n",
    "import matplotlib.pyplot as plt\n",
    "import seaborn as sns\n",
    "\n",
    "from sklearn.compose import ColumnTransformer\n",
    "from sklearn.ensemble import HistGradientBoostingRegressor\n",
    "from sklearn.preprocessing import OrdinalEncoder\n",
    "from sklearn.pipeline import Pipeline\n",
    "from sklearn.model_selection import train_test_split"
   ]
  },
  {
   "cell_type": "code",
   "execution_count": 2,
   "id": "6f972c24-a6c0-465e-b934-c581844778e4",
   "metadata": {},
   "outputs": [],
   "source": [
    "data_freq = arff.load('freMTPL2freq.arff')\n",
    "df_freq = pd.DataFrame(data_freq, columns=[\"IDpol\", \"ClaimNb\", \"Exposure\", \"Area\", \"VehPower\",\n",
    "\"VehAge\",\"DrivAge\", \"BonusMalus\", \"VehBrand\", \"VehGas\", \"Density\", \"Region\"])\n",
    "\n",
    "df_freq['Frequency']=df_freq.ClaimNb/df_freq.Exposure\n",
    "\n",
    "df_train, df_test = train_test_split(df_freq, test_size=0.2, random_state=1337)"
   ]
  },
  {
   "cell_type": "code",
   "execution_count": null,
   "id": "ea3ed09f-58c4-4d5a-990a-c429ef7ab210",
   "metadata": {},
   "outputs": [],
   "source": [
    "tree_preprocessor = ColumnTransformer(\n",
    "    [\n",
    "        (\n",
    "            \"categorical\",\n",
    "            OrdinalEncoder(),\n",
    "            [\"VehBrand\", \"VehPower\", \"VehGas\", \"Region\", \"Area\"],\n",
    "        ),\n",
    "        (\"numeric\", \"passthrough\", [\"VehAge\", \"DrivAge\", \"BonusMalus\", \"Density\"]),\n",
    "    ],\n",
    "    remainder=\"drop\",\n",
    ")\n",
    "poisson_gbrt = Pipeline(\n",
    "    [\n",
    "        (\"preprocessor\", tree_preprocessor),\n",
    "        (\n",
    "            \"regressor\",\n",
    "            HistGradientBoostingRegressor(loss=\"poisson\", max_leaf_nodes=128),\n",
    "        ),\n",
    "    ]\n",
    ")\n",
    "poisson_gbrt.fit(\n",
    "    df_train, df_train[\"Frequency\"], regressor__sample_weight=df_train[\"Exposure\"]\n",
    ")\n"
   ]
  },
  {
   "cell_type": "code",
   "execution_count": 4,
   "id": "4b2d641d-348d-45a4-bd8e-500d8e16ff73",
   "metadata": {},
   "outputs": [
    {
     "name": "stdout",
     "output_type": "stream",
     "text": [
      "Ratio ExpectedClaimRate/ClaimRate:  0.45712068402106587\n"
     ]
    }
   ],
   "source": [
    "from sklearn.metrics import root_mean_squared_error\n",
    "y_pred = poisson_gbrt.predict(df_test)\n",
    "print(\"Ratio ExpectedClaimRate/ClaimRate: \",y_pred.sum()/df_test.Frequency.sum())"
   ]
  },
  {
   "cell_type": "markdown",
   "id": "e09e895f-271b-4760-bb35-d0b305f20e2d",
   "metadata": {},
   "source": [
    "### Gradient boost model still underestimates the claim rate but to a somewhat lesser extent"
   ]
  }
 ],
 "metadata": {
  "kernelspec": {
   "display_name": "Python 3 (ipykernel)",
   "language": "python",
   "name": "python3"
  },
  "language_info": {
   "codemirror_mode": {
    "name": "ipython",
    "version": 3
   },
   "file_extension": ".py",
   "mimetype": "text/x-python",
   "name": "python",
   "nbconvert_exporter": "python",
   "pygments_lexer": "ipython3",
   "version": "3.12.2"
  }
 },
 "nbformat": 4,
 "nbformat_minor": 5
}
